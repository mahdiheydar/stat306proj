{
 "cells": [
  {
   "cell_type": "code",
   "execution_count": 28,
   "id": "6465aaa9-45f7-4f8f-8131-5cf25e0abeb1",
   "metadata": {},
   "outputs": [],
   "source": [
    "insurance <- read.csv('insurance.csv', header=TRUE)"
   ]
  },
  {
   "cell_type": "code",
   "execution_count": 29,
   "id": "82ed7a6e-8172-4dcb-b400-225982f8b8c8",
   "metadata": {},
   "outputs": [],
   "source": [
    "library(tidyverse)\n",
    "library(GGally)"
   ]
  },
  {
   "cell_type": "code",
   "execution_count": 35,
   "id": "3e90b785-1268-43bd-bf89-e15c1e12acb6",
   "metadata": {},
   "outputs": [],
   "source": [
    "insurance <- transform(insurance, sex = as.factor(sex), \n",
    "              children = as.factor(children), \n",
    "              smoker = as.factor(smoker),\n",
    "                region = as.factor(region))"
   ]
  }
 ],
 "metadata": {
  "kernelspec": {
   "display_name": "R",
   "language": "R",
   "name": "ir"
  },
  "language_info": {
   "codemirror_mode": "r",
   "file_extension": ".r",
   "mimetype": "text/x-r-source",
   "name": "R",
   "pygments_lexer": "r",
   "version": "4.1.2"
  }
 },
 "nbformat": 4,
 "nbformat_minor": 5
}
